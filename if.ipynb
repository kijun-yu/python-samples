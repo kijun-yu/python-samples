{
 "cells": [
  {
   "cell_type": "code",
   "execution_count": 1,
   "id": "c956aa0c",
   "metadata": {},
   "outputs": [
    {
     "name": "stdout",
     "output_type": "stream",
     "text": [
      "You can buy the snack\n",
      "Your change is 300\n"
     ]
    }
   ],
   "source": [
    "#Exercise 1 (vending machine)\n",
    "\n",
    "money = 1000 #change money to test several cases\n",
    "\n",
    "price = 700\n",
    "\n",
    "if money > price:\n",
    "    print(\"You can buy the snack\")\n",
    "    print(\"Your change is\", money - price)\n",
    "elif money == price:\n",
    "    print(\"You can buy the snack\")\n",
    "    print(\"You will not get change\")\n",
    "else:\n",
    "    print(\"Sorry you dont have enough money.\")"
   ]
  },
  {
   "cell_type": "code",
   "execution_count": null,
   "id": "838109ad",
   "metadata": {},
   "outputs": [],
   "source": [
    "#Exercise 2 (GPA Calculator)\n",
    "\n"
   ]
  }
 ],
 "metadata": {
  "kernelspec": {
   "display_name": "Python 3",
   "language": "python",
   "name": "python3"
  },
  "language_info": {
   "codemirror_mode": {
    "name": "ipython",
    "version": 3
   },
   "file_extension": ".py",
   "mimetype": "text/x-python",
   "name": "python",
   "nbconvert_exporter": "python",
   "pygments_lexer": "ipython3",
   "version": "3.8.8"
  }
 },
 "nbformat": 4,
 "nbformat_minor": 5
}
